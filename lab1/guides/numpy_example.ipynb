{
 "cells": [
  {
   "cell_type": "markdown",
   "metadata": {},
   "source": [
    "# Using NumPy: Introduction and a worked example\n",
    "\n",
    "Read through the following notes carefully, and run each of these cells to get an idea of how NumPy works.\n",
    "\n",
    "We import `numpy` as below, and then we can access all Numpy functions from using `np.<function>`:"
   ]
  },
  {
   "cell_type": "code",
   "execution_count": 5,
   "metadata": {},
   "outputs": [],
   "source": [
    "# np is the conventional name for numpy\n",
    "import numpy as np\n",
    "np.set_printoptions(suppress=True, precision=2) # configure printing"
   ]
  },
  {
   "cell_type": "markdown",
   "metadata": {},
   "source": [
    "# Basic array creation\n",
    "\n",
    "`np.array()` takes a *sequence* and converts it into an `ndarray`; this can be, for example, an ordinary Python list:\n",
    "    "
   ]
  },
  {
   "cell_type": "code",
   "execution_count": 6,
   "metadata": {
    "lines_to_next_cell": 2
   },
   "outputs": [
    {
     "name": "stdout",
     "output_type": "stream",
     "text": [
      "[1. 2. 3.] <class 'numpy.ndarray'>\n"
     ]
    }
   ],
   "source": [
    "## a simple vector: np.array converts iterable sequences to arrays\n",
    "n_list = [1.0, 2.0, 3.0]\n",
    "n_array = np.array(n_list)\n",
    "print(n_array, type(n_array)) # this is now an array\n"
   ]
  },
  {
   "cell_type": "markdown",
   "metadata": {},
   "source": [
    "## Shape\n",
    "`ndarrays` hold *rectangular* blocks of numbers. They can have any number of dimensions: 1D vectors, 2D matrices, 3D and higher tensors.\n",
    "\n",
    "All ndarrays have a **shape**, which is the number of elements in each dimension. You can always find\n",
    "the shape of an existing array by calling `a.shape()` on an array `a`. This list is just three elements, so its shape is just `(3,)` (a 3 element vector):"
   ]
  },
  {
   "cell_type": "code",
   "execution_count": 7,
   "metadata": {},
   "outputs": [
    {
     "name": "stdout",
     "output_type": "stream",
     "text": [
      "(3,)\n"
     ]
    }
   ],
   "source": [
    "print(n_array.shape)"
   ]
  },
  {
   "cell_type": "markdown",
   "metadata": {},
   "source": [
    "### Multidimensional arrays\n",
    "This extends to creating multidimensional arrays, using nested sequences (e.g. list-of-lists). However, arrays must be **rectangular**; they cannot be *ragged*, where there are different numbers of columns per row."
   ]
  },
  {
   "cell_type": "code",
   "execution_count": 8,
   "metadata": {},
   "outputs": [
    {
     "name": "stdout",
     "output_type": "stream",
     "text": [
      "[[ 1.   2.   3. ]\n",
      " [ 0.   0.5  0. ]\n",
      " [ 5.   0.  10. ]]\n"
     ]
    }
   ],
   "source": [
    "# using nested lists to create a 2D array (a matrix)\n",
    "a = np.array([\n",
    "                [1.0, 2.0, 3.0],\n",
    "                [0.0, 0.5, 0.0],\n",
    "                [5.0, 0.0, 10.0]\n",
    "               ])\n",
    "\n",
    "print(a)"
   ]
  },
  {
   "cell_type": "code",
   "execution_count": 9,
   "metadata": {},
   "outputs": [
    {
     "name": "stdout",
     "output_type": "stream",
     "text": [
      "(3, 3)\n"
     ]
    }
   ],
   "source": [
    "print(a.shape)"
   ]
  },
  {
   "cell_type": "markdown",
   "metadata": {},
   "source": [
    "NumPy supports arbitrary dimensioned arrays. So we can create a `2x2x2` array of numbers:"
   ]
  },
  {
   "cell_type": "code",
   "execution_count": 10,
   "metadata": {},
   "outputs": [
    {
     "name": "stdout",
     "output_type": "stream",
     "text": [
      "[[[1. 1.]\n",
      "  [4. 4.]]\n",
      "\n",
      " [[2. 2.]\n",
      "  [3. 3.]]]\n"
     ]
    }
   ],
   "source": [
    "a = np.array([\n",
    "                [[1.0, 1.0],\n",
    "                 [4.0, 4.0]],\n",
    "                [[2.0, 2.0],\n",
    "                 [3.0, 3.0]],                \n",
    "               ])\n",
    "print(a)"
   ]
  },
  {
   "cell_type": "code",
   "execution_count": 11,
   "metadata": {},
   "outputs": [
    {
     "name": "stdout",
     "output_type": "stream",
     "text": [
      "(2, 2, 2)\n"
     ]
    }
   ],
   "source": [
    "print(a.shape)"
   ]
  },
  {
   "cell_type": "markdown",
   "metadata": {},
   "source": [
    "## Blank arrays\n",
    "It's often useful to create arrays which are \"blank\", in the sense they are filled with equal values (particularly, filled with all zeros). There are array functions that will be produce such arrays very efficiently. They just take the shape of the desired array and return a fully populated array:\n",
    "\n",
    "* `np.zeros(shape)` will create an array of a given **shape** and fill it with zeros. \n",
    "* `np.ones(shape)` does the same and fills it with ones (1.0).\n",
    "* `np.full(shape, value)` fills a new array with the given value.\n",
    "* `np.empty(shape)` creates a new array, but doesn't fill it. This will have whatever was in the memory before, so while it's very efficient, it's only useful when you expect to overwrite the array values.\n",
    "\n",
    "### Shapes are tuples\n",
    "Note: the `shape` is a **tuple**, written in round brackets like this: `(3,4)` or `(3,)`.\n",
    "\n",
    "* **Don't** call `np.zeros(3,4)`: this calls `np.zeros` with two arguments \n",
    "* **Do** call `np.zeros((3,4))`: this calls `np.zeros` with one argument, a shape tuple.\n"
   ]
  },
  {
   "cell_type": "code",
   "execution_count": 12,
   "metadata": {},
   "outputs": [
    {
     "name": "stdout",
     "output_type": "stream",
     "text": [
      "[0. 0. 0. 0. 0.]\n"
     ]
    }
   ],
   "source": [
    "print(np.zeros((5,))) # a 5 element vector of zeros"
   ]
  },
  {
   "cell_type": "code",
   "execution_count": 13,
   "metadata": {},
   "outputs": [
    {
     "name": "stdout",
     "output_type": "stream",
     "text": [
      "[[0. 0. 0.]\n",
      " [0. 0. 0.]\n",
      " [0. 0. 0.]]\n"
     ]
    }
   ],
   "source": [
    "print(np.zeros((3,3))) # a 3x3 matrix of zeros"
   ]
  },
  {
   "cell_type": "code",
   "execution_count": 14,
   "metadata": {},
   "outputs": [
    {
     "name": "stdout",
     "output_type": "stream",
     "text": [
      "[[0. 0.]\n",
      " [0. 0.]\n",
      " [0. 0.]\n",
      " [0. 0.]\n",
      " [0. 0.]\n",
      " [0. 0.]]\n"
     ]
    }
   ],
   "source": [
    "print(np.zeros((6,2))) # a 6x2 matrix of zeros"
   ]
  },
  {
   "cell_type": "code",
   "execution_count": 15,
   "metadata": {},
   "outputs": [
    {
     "name": "stdout",
     "output_type": "stream",
     "text": [
      "[[1. 1.]\n",
      " [1. 1.]]\n"
     ]
    }
   ],
   "source": [
    "print(np.ones((2,2))) #  a 2x2 matrix of ones"
   ]
  },
  {
   "cell_type": "code",
   "execution_count": 16,
   "metadata": {},
   "outputs": [
    {
     "name": "stdout",
     "output_type": "stream",
     "text": [
      "[[[9]\n",
      "  [9]\n",
      "  [9]\n",
      "  [9]\n",
      "  [9]]]\n"
     ]
    }
   ],
   "source": [
    "print(np.full((1,5,1), 9)) # a 1x5x1 array of 9s\n"
   ]
  },
  {
   "cell_type": "code",
   "execution_count": 17,
   "metadata": {},
   "outputs": [
    {
     "data": {
      "text/plain": [
       "array([[[-1., -1.],\n",
       "        [-1., -1.]],\n",
       "\n",
       "       [[-1., -1.],\n",
       "        [-1., -1.]]])"
      ]
     },
     "execution_count": 17,
     "metadata": {},
     "output_type": "execute_result"
    }
   ],
   "source": [
    "np.full((2,2,2), -1.0) # 2x2x2 array filled with -1"
   ]
  },
  {
   "cell_type": "code",
   "execution_count": 18,
   "metadata": {
    "lines_to_next_cell": 0
   },
   "outputs": [
    {
     "name": "stdout",
     "output_type": "stream",
     "text": [
      "[1. 1. 1. 1. 1. 1. 1. 1.]\n"
     ]
    }
   ],
   "source": [
    "print(np.empty(8,)) # 8 element vector -- note the values will be random junk!"
   ]
  },
  {
   "cell_type": "markdown",
   "metadata": {},
   "source": [
    "## Singleton axes\n",
    "**Note**: a (1,5,1) array is different from a (1,5) array and different from a (5,) array. Array dimension sizes can be 1. \n",
    "\n",
    "We call each dimension of an array an **axis**, and any **axis** which is just one element is called a **singleton axis**.\n"
   ]
  },
  {
   "cell_type": "code",
   "execution_count": 19,
   "metadata": {
    "lines_to_next_cell": 0
   },
   "outputs": [
    {
     "name": "stdout",
     "output_type": "stream",
     "text": [
      "(1, 5, 1)\n",
      "(1, 5)\n",
      "(5,)\n"
     ]
    }
   ],
   "source": [
    "# these are all differently shaped arrays, even though they all contain exactly five elements\n",
    "print(np.zeros((1,5,1)).shape) \n",
    "print(np.zeros((1,5)).shape) \n",
    "print(np.zeros((5,)).shape) "
   ]
  },
  {
   "cell_type": "markdown",
   "metadata": {},
   "source": [
    "\n"
   ]
  },
  {
   "cell_type": "markdown",
   "metadata": {},
   "source": [
    "### zeros_like\n",
    "It is often handy to create a new array which is the same type and shape as an existing array, but initialised to all zeros (or all ones). This is useful, for example, when accumulating counts in an array the same size as some original input (e.g. counting number of pixels that are blue or green)\n",
    "\n",
    "`np.zeros_like()` does this. There are equivalent `ones_like` and `full_like` as well."
   ]
  },
  {
   "cell_type": "code",
   "execution_count": 20,
   "metadata": {},
   "outputs": [
    {
     "name": "stdout",
     "output_type": "stream",
     "text": [
      "[[1. 2. 3.]\n",
      " [4. 5. 6.]]\n"
     ]
    }
   ],
   "source": [
    "x = np.array([[1.0,2.0,3.0], [4.0,5.0,6.0]], dtype=np.float64)\n",
    "print(x)"
   ]
  },
  {
   "cell_type": "code",
   "execution_count": 21,
   "metadata": {},
   "outputs": [
    {
     "name": "stdout",
     "output_type": "stream",
     "text": [
      "[[0. 0. 0.]\n",
      " [0. 0. 0.]]\n"
     ]
    }
   ],
   "source": [
    "\n",
    "zeros_like_x = np.zeros_like(x)\n",
    "print(zeros_like_x)"
   ]
  },
  {
   "cell_type": "markdown",
   "metadata": {},
   "source": [
    "## arange\n",
    "Another useful kind of generated array is a range of numbers, increasing over a span.\n",
    "\n",
    "We can create a vector of increasing values using `arange` (**a**rray **range**), which works like the built in Python function `range` does, but returns an 1D array (a vector) instead of a list.\n",
    "\n",
    "`np.arange()` takes one to three parameters:\n",
    "* `np.arange(end)`  -- returns a vector of numbers 0..end-1\n",
    "* `np.arange(start, end)`  -- returns a vector of numbers start..end-1\n",
    "*  `np.arange(start, end, step)` --returns a vector of numbers start..end-1, incrementing by step (which may be **negative** and/or **fractional**!)\n"
   ]
  },
  {
   "cell_type": "code",
   "execution_count": 22,
   "metadata": {},
   "outputs": [
    {
     "data": {
      "text/plain": [
       "array([0, 1, 2, 3, 4, 5, 6, 7, 8, 9])"
      ]
     },
     "execution_count": 22,
     "metadata": {},
     "output_type": "execute_result"
    }
   ],
   "source": [
    "np.arange(10)  # [0-10) (excluding 10)"
   ]
  },
  {
   "cell_type": "code",
   "execution_count": 23,
   "metadata": {},
   "outputs": [
    {
     "data": {
      "text/plain": [
       "array([2, 3, 4, 5, 6, 7])"
      ]
     },
     "execution_count": 23,
     "metadata": {},
     "output_type": "execute_result"
    }
   ],
   "source": [
    "np.arange(2, 8) # 2,3,4,5,6,7 (no 8 -- the right endpoint is never included!)"
   ]
  },
  {
   "cell_type": "code",
   "execution_count": 24,
   "metadata": {},
   "outputs": [
    {
     "data": {
      "text/plain": [
       "array([0, 2, 4, 6, 8])"
      ]
     },
     "execution_count": 24,
     "metadata": {},
     "output_type": "execute_result"
    }
   ],
   "source": [
    "np.arange(0,10,2) # even numbers 0-10"
   ]
  },
  {
   "cell_type": "code",
   "execution_count": 25,
   "metadata": {},
   "outputs": [
    {
     "data": {
      "text/plain": [
       "array([10,  8,  6,  4,  2])"
      ]
     },
     "execution_count": 25,
     "metadata": {},
     "output_type": "execute_result"
    }
   ],
   "source": [
    "np.arange(10,0,-2) # even numbers backwards stopping at *2* \n",
    "# (be careful and remember the right endpoint rule!)"
   ]
  },
  {
   "cell_type": "code",
   "execution_count": 26,
   "metadata": {},
   "outputs": [
    {
     "data": {
      "text/plain": [
       "array([0.  , 0.25, 0.5 , 0.75, 1.  , 1.25, 1.5 , 1.75, 2.  , 2.25, 2.5 ,\n",
       "       2.75, 3.  , 3.25, 3.5 , 3.75, 4.  , 4.25, 4.5 , 4.75, 5.  , 5.25,\n",
       "       5.5 , 5.75, 6.  , 6.25, 6.5 , 6.75, 7.  , 7.25, 7.5 , 7.75, 8.  ,\n",
       "       8.25, 8.5 , 8.75, 9.  , 9.25, 9.5 , 9.75])"
      ]
     },
     "execution_count": 26,
     "metadata": {},
     "output_type": "execute_result"
    }
   ],
   "source": [
    "np.arange(0,10,0.25) # 0 to 10, incrementing by 0.25"
   ]
  },
  {
   "cell_type": "code",
   "execution_count": 27,
   "metadata": {},
   "outputs": [
    {
     "data": {
      "text/plain": [
       "array([0.3 , 1.25, 2.2 , 3.15, 4.1 , 5.05, 6.  , 6.95, 7.9 , 8.85, 9.8 ])"
      ]
     },
     "execution_count": 27,
     "metadata": {},
     "output_type": "execute_result"
    }
   ],
   "source": [
    "np.arange(0.3, 10.21, 0.95) # all points can be fractional"
   ]
  },
  {
   "cell_type": "markdown",
   "metadata": {},
   "source": [
    "### Loading and saving arrays\n",
    "`np.loadtxt(fname)` and `np.savetxt(arr, fname)` are simple functions to load and save single 1D or 2D arrays as ordinary text files."
   ]
  },
  {
   "cell_type": "code",
   "execution_count": 28,
   "metadata": {},
   "outputs": [
    {
     "name": "stdout",
     "output_type": "stream",
     "text": [
      "(2820, 3) float64\n"
     ]
    }
   ],
   "source": [
    "sunspots = np.loadtxt(\"../data/sunspots.csv\", delimiter=',') # comma separated\n",
    "print(sunspots.shape, sunspots.dtype)"
   ]
  },
  {
   "cell_type": "code",
   "execution_count": 29,
   "metadata": {
    "lines_to_next_cell": 0
   },
   "outputs": [
    {
     "name": "stdout",
     "output_type": "stream",
     "text": [
      "test_array.txt\n",
      "1.000000000000000000e+00 2.000000000000000000e+00 3.000000000000000000e+00 4.000000000000000000e+00\n",
      "5.000000000000000000e+00 6.000000000000000000e+00 7.000000000000000000e+00 8.000000000000000000e+00\n",
      "\n"
     ]
    }
   ],
   "source": [
    "# write to a file, then see what is in it\n",
    "# a new, blank array\n",
    "x = np.array([[1,2,3,4], [5,6,7,8]])\n",
    "# write to \"test_array.txt\"\n",
    "np.savetxt(\"test_array.txt\", x)\n",
    "\n",
    "# print out the contents of the file\n",
    "# will be space separated by default, in scientific notation\n",
    "print(\"test_array.txt\")\n",
    "# this is just the raw contents of the file\n",
    "with open(\"test_array.txt\") as f:\n",
    "    print((f.read()))"
   ]
  },
  {
   "cell_type": "markdown",
   "metadata": {},
   "source": [
    "\n",
    "\n",
    "\n"
   ]
  },
  {
   "cell_type": "markdown",
   "metadata": {},
   "source": [
    "## Random arrays\n",
    "We can also generate random numbers to fill arrays. Many algorithms use arrays of\n",
    "random numbers as their basic \"fuel\". \n",
    "\n",
    "Useful random array functions include:\n",
    "* `np.random.randint(a,b,shape)` creates an array with uniform random *integers* between a and (excluding) b\n",
    "* `np.random.uniform(a,b,shape)` creates an array with uniform random *floating point* numbers between a and b\n",
    "* `np.random.normal(mean,std,shape)` creates an array with normally distributed random floating point numbers between with the given mean and standard deviation."
   ]
  },
  {
   "cell_type": "code",
   "execution_count": 30,
   "metadata": {},
   "outputs": [
    {
     "data": {
      "text/plain": [
       "array([[2, 5, 4, 3, 1],\n",
       "       [6, 1, 5, 3, 3],\n",
       "       [4, 6, 6, 5, 6],\n",
       "       [2, 5, 3, 2, 3],\n",
       "       [6, 2, 3, 3, 4]])"
      ]
     },
     "execution_count": 30,
     "metadata": {},
     "output_type": "execute_result"
    }
   ],
   "source": [
    "np.random.randint(1,7,(5,5)) # 5x5 array o numbers from 1 through 6 (e.g. dice rolls)"
   ]
  },
  {
   "cell_type": "code",
   "execution_count": 31,
   "metadata": {},
   "outputs": [
    {
     "data": {
      "text/plain": [
       "array([0.08, 0.25, 0.07])"
      ]
     },
     "execution_count": 31,
     "metadata": {},
     "output_type": "execute_result"
    }
   ],
   "source": [
    "\n",
    "np.random.uniform(0,1,(3,)) # 3 element vector of values from 0-1"
   ]
  },
  {
   "cell_type": "code",
   "execution_count": 32,
   "metadata": {},
   "outputs": [
    {
     "data": {
      "text/plain": [
       "array([ 2.31, -0.48, -1.17])"
      ]
     },
     "execution_count": 32,
     "metadata": {},
     "output_type": "execute_result"
    }
   ],
   "source": [
    "# 3 element vector of values, normally distributed with mean 0, standard deviation 1.0\n",
    "np.random.normal(0,1,(3,)) "
   ]
  },
  {
   "cell_type": "markdown",
   "metadata": {},
   "source": [
    "## Joining and stacking\n",
    "We can also join arrays together. But unlike simple structures like lists, we have to explicitly state on which **dimension** we are going to join. \n",
    "\n",
    "### concatenate and stack\n",
    "Because arrays can be joined together along different axes, there are two distinct kinds of joining:\n",
    "* We can use `concatenate` to join along an *existing* dimension;\n",
    "* or `stack` to stack up arrays along a *new dimension.*"
   ]
  },
  {
   "cell_type": "code",
   "execution_count": 33,
   "metadata": {},
   "outputs": [
    {
     "name": "stdout",
     "output_type": "stream",
     "text": [
      "Stacked two 1D -> 2D\n",
      "[[1 2 3 4]\n",
      " [5 6 7 8]]\n"
     ]
    }
   ],
   "source": [
    "x = np.array([1,2,3,4])\n",
    "y = np.array([5,6,7,8])\n",
    "print(\"Stacked two 1D -> 2D\")\n",
    "print((np.stack([x,y])))"
   ]
  },
  {
   "cell_type": "code",
   "execution_count": 34,
   "metadata": {},
   "outputs": [
    {
     "name": "stdout",
     "output_type": "stream",
     "text": [
      "Concatenated two 1D -> 1D\n",
      "[1 2 3 4 5 6 7 8]\n"
     ]
    }
   ],
   "source": [
    "print(\"Concatenated two 1D -> 1D\")\n",
    "print((np.concatenate([x,y])))"
   ]
  },
  {
   "cell_type": "code",
   "execution_count": 35,
   "metadata": {},
   "outputs": [],
   "source": [
    "# when we have multiple dimensions, we can specify explicitly\n",
    "# which axis to join on\n",
    "x = np.zeros((3,3))\n",
    "y = np.ones((3,3))"
   ]
  },
  {
   "cell_type": "code",
   "execution_count": 36,
   "metadata": {},
   "outputs": [
    {
     "name": "stdout",
     "output_type": "stream",
     "text": [
      "Joined on rows\n",
      "[[0. 0. 0.]\n",
      " [0. 0. 0.]\n",
      " [0. 0. 0.]\n",
      " [1. 1. 1.]\n",
      " [1. 1. 1.]\n",
      " [1. 1. 1.]]\n"
     ]
    }
   ],
   "source": [
    "print(\"Joined on rows\")\n",
    "print(np.concatenate([x,y], axis=0))  # join on rows"
   ]
  },
  {
   "cell_type": "code",
   "execution_count": 37,
   "metadata": {},
   "outputs": [
    {
     "name": "stdout",
     "output_type": "stream",
     "text": [
      "Joined on columns\n",
      "[[0. 0. 0. 1. 1. 1.]\n",
      " [0. 0. 0. 1. 1. 1.]\n",
      " [0. 0. 0. 1. 1. 1.]]\n"
     ]
    }
   ],
   "source": [
    "print(\"Joined on columns\")\n",
    "print(np.concatenate([x,y], axis=1))  # join on columns"
   ]
  },
  {
   "cell_type": "code",
   "execution_count": 38,
   "metadata": {},
   "outputs": [
    {
     "name": "stdout",
     "output_type": "stream",
     "text": [
      "Joined by stacking\n",
      "[[[0. 0. 0.]\n",
      "  [0. 0. 0.]\n",
      "  [0. 0. 0.]]\n",
      "\n",
      " [[1. 1. 1.]\n",
      "  [1. 1. 1.]\n",
      "  [1. 1. 1.]]]\n"
     ]
    }
   ],
   "source": [
    "print(\"Joined by stacking\")\n",
    "print(np.stack([x,y]))"
   ]
  },
  {
   "cell_type": "markdown",
   "metadata": {},
   "source": [
    "## Tiling\n",
    "We often need to be able to **repeat** arrays. This is called **tiling** and `np.tile(a, tiles)` will repeat `a` in the shape given by `tiles`, joining the result together into a single array."
   ]
  },
  {
   "cell_type": "code",
   "execution_count": 39,
   "metadata": {},
   "outputs": [
    {
     "name": "stdout",
     "output_type": "stream",
     "text": [
      "[[1. 0.]\n",
      " [0. 1.]]\n"
     ]
    }
   ],
   "source": [
    "eye = np.array([[1.,0.], [0.,1]])\n",
    "print(eye)"
   ]
  },
  {
   "cell_type": "code",
   "execution_count": 40,
   "metadata": {},
   "outputs": [
    {
     "name": "stdout",
     "output_type": "stream",
     "text": [
      "Repeated 3 times, columns\n"
     ]
    },
    {
     "data": {
      "text/plain": [
       "array([[1., 0., 1., 0., 1., 0.],\n",
       "       [0., 1., 0., 1., 0., 1.]])"
      ]
     },
     "execution_count": 40,
     "metadata": {},
     "output_type": "execute_result"
    }
   ],
   "source": [
    "print(\"Repeated 3 times, columns\")\n",
    "np.tile(eye, (1,3))"
   ]
  },
  {
   "cell_type": "code",
   "execution_count": 41,
   "metadata": {},
   "outputs": [
    {
     "name": "stdout",
     "output_type": "stream",
     "text": [
      "Repeated 3 times, rows\n"
     ]
    },
    {
     "data": {
      "text/plain": [
       "array([[1., 0.],\n",
       "       [0., 1.],\n",
       "       [1., 0.],\n",
       "       [0., 1.],\n",
       "       [1., 0.],\n",
       "       [0., 1.]])"
      ]
     },
     "execution_count": 41,
     "metadata": {},
     "output_type": "execute_result"
    }
   ],
   "source": [
    "print(\"Repeated 3 times, rows\")\n",
    "np.tile(eye, (3,1))"
   ]
  },
  {
   "cell_type": "code",
   "execution_count": 42,
   "metadata": {},
   "outputs": [
    {
     "name": "stdout",
     "output_type": "stream",
     "text": [
      "Repeated 2x2 times\n"
     ]
    },
    {
     "data": {
      "text/plain": [
       "array([[1., 0., 1., 0.],\n",
       "       [0., 1., 0., 1.],\n",
       "       [1., 0., 1., 0.],\n",
       "       [0., 1., 0., 1.]])"
      ]
     },
     "execution_count": 42,
     "metadata": {},
     "output_type": "execute_result"
    }
   ],
   "source": [
    "print(\"Repeated 2x2 times\")\n",
    "np.tile(eye, (2,2))"
   ]
  },
  {
   "cell_type": "markdown",
   "metadata": {},
   "source": [
    "# Worked example"
   ]
  },
  {
   "cell_type": "markdown",
   "metadata": {},
   "source": [
    "### Tabular Data\n",
    "Many data can be naturally thought of as arrays. For example, a very common structure is a spreadsheet like arrangement of data in tables, with rows and columns.\n",
    "Each row is an **observation**, and each column is a **variable**.\n",
    "\n",
    "Here we will use a simple dataset, *\"Wheat prices in England, 1565-1810\"* by **William Playfair**.\n",
    "\n",
    "We will ask some basic questions about this, and answer them via NumPy. This will introduce slicing and indexing, arithmetic, aggregation/reduction and accumulation. We will also see some basic plotting commands to generate graphs: you do not need to learn these at this point."
   ]
  },
  {
   "cell_type": "code",
   "execution_count": 43,
   "metadata": {},
   "outputs": [
    {
     "name": "stdout",
     "output_type": "stream",
     "text": [
      "[[   1.   1565.     41.      5.  ]\n",
      " [   2.   1570.     45.      5.05]\n",
      " [   3.   1575.     42.      5.08]\n",
      " [   4.   1580.     49.      5.12]\n",
      " [   5.   1585.     41.5     5.15]\n",
      " [   6.   1590.     47.      5.25]\n",
      " [   7.   1595.     64.      5.54]\n",
      " [   8.   1600.     27.      5.61]\n",
      " [   9.   1605.     33.      5.69]\n",
      " [  10.   1610.     32.      5.78]\n",
      " [  11.   1615.     33.      5.94]\n",
      " [  12.   1620.     35.      6.01]\n",
      " [  13.   1625.     33.      6.12]\n",
      " [  14.   1630.     45.      6.22]\n",
      " [  15.   1635.     33.      6.3 ]\n",
      " [  16.   1640.     39.      6.37]\n",
      " [  17.   1645.     53.      6.45]\n",
      " [  18.   1650.     42.      6.5 ]\n",
      " [  19.   1655.     40.5     6.6 ]\n",
      " [  20.   1660.     46.5     6.75]\n",
      " [  21.   1665.     32.      6.8 ]\n",
      " [  22.   1670.     37.      6.9 ]\n",
      " [  23.   1675.     43.      7.  ]\n",
      " [  24.   1680.     35.      7.3 ]\n",
      " [  25.   1685.     27.      7.6 ]\n",
      " [  26.   1690.     40.      8.  ]\n",
      " [  27.   1695.     50.      8.5 ]\n",
      " [  28.   1700.     30.      9.  ]\n",
      " [  29.   1705.     32.     10.  ]\n",
      " [  30.   1710.     44.     11.  ]\n",
      " [  31.   1715.     33.     11.75]\n",
      " [  32.   1720.     29.     12.5 ]\n",
      " [  33.   1725.     39.     13.  ]\n",
      " [  34.   1730.     26.     13.3 ]\n",
      " [  35.   1735.     32.     13.6 ]\n",
      " [  36.   1740.     27.     14.  ]\n",
      " [  37.   1745.     27.5    14.5 ]\n",
      " [  38.   1750.     31.     15.  ]\n",
      " [  39.   1755.     35.5    15.7 ]\n",
      " [  40.   1760.     31.     16.5 ]\n",
      " [  41.   1765.     43.     17.6 ]\n",
      " [  42.   1770.     47.     18.5 ]\n",
      " [  43.   1775.     44.     19.5 ]\n",
      " [  44.   1780.     46.     21.  ]\n",
      " [  45.   1785.     42.     23.  ]\n",
      " [  46.   1790.     47.5    25.5 ]\n",
      " [  47.   1795.     76.     27.5 ]\n",
      " [  48.   1800.     79.     28.5 ]\n",
      " [  49.   1805.     81.     29.5 ]\n",
      " [  50.   1810.     99.     30.  ]]\n"
     ]
    }
   ],
   "source": [
    "# the price of wheat 1565-1810 in format:\n",
    "#      index, year, wheat price, weekly wage\n",
    "# price: shillings per quarter bushel\n",
    "# wage: shillings per week\n",
    "\n",
    "# load a text file, store in the variable wheat, and print it out\n",
    "wheat = np.loadtxt(\"../data/Wheat.csv\", delimiter=\",\")\n",
    "print(wheat)"
   ]
  },
  {
   "cell_type": "markdown",
   "metadata": {},
   "source": [
    "Every array has a **shape** and a **datatype**. We can print these out:"
   ]
  },
  {
   "cell_type": "code",
   "execution_count": 44,
   "metadata": {},
   "outputs": [
    {
     "name": "stdout",
     "output_type": "stream",
     "text": [
      "shape (50, 4)\n",
      "dtype float64\n"
     ]
    }
   ],
   "source": [
    "print(\"shape\", wheat.shape)\n",
    "print(\"dtype\", wheat.dtype)"
   ]
  },
  {
   "cell_type": "markdown",
   "metadata": {},
   "source": [
    "This tells us we have a 50 rows x 4 columns array of floating point numbers"
   ]
  },
  {
   "cell_type": "markdown",
   "metadata": {},
   "source": [
    "We can plot this in a graph:"
   ]
  },
  {
   "cell_type": "code",
   "execution_count": 45,
   "metadata": {},
   "outputs": [
    {
     "data": {
      "text/plain": [
       "<matplotlib.legend.Legend at 0x2611622c390>"
      ]
     },
     "execution_count": 45,
     "metadata": {},
     "output_type": "execute_result"
    },
    {
     "data": {
      "image/png": "[encoded data removed]",
      "text/plain": [
       "<Figure size 576x288 with 1 Axes>"
      ]
     },
     "metadata": {
      "needs_background": "light"
     },
     "output_type": "display_data"
    }
   ],
   "source": [
    "# import plotting\n",
    "import matplotlib.pyplot as plt\n",
    "%matplotlib inline\n",
    "\n",
    "# create a new figure\n",
    "fig = plt.figure(figsize=(8,4))\n",
    "ax = fig.add_subplot(1,1,1)\n",
    "# plot the wheat price against the year\n",
    "ax.plot(wheat[:,1], wheat[:,2], label=\"Wheat price (per quarter bushel)\")\n",
    "# plot the wage of skilled mechanic  against the year\n",
    "ax.plot(wheat[:,1], wheat[:,3], label=\"Weekly wage (per week)\")\n",
    "# add some labels\n",
    "ax.set_xlabel(\"Year\")\n",
    "ax.set_ylabel(\"Shillings\")\n",
    "# add a legend\n",
    "ax.legend()\n"
   ]
  },
  {
   "cell_type": "markdown",
   "metadata": {},
   "source": [
    "We have selected pairs of columns to plot; for example `wheat[:,1]` selects the second column, the years. This is an example of slicing."
   ]
  },
  {
   "cell_type": "markdown",
   "metadata": {},
   "source": [
    "We can select any subparts of this array using **slice notation**, using square brackets. This is like indexing an array, but we can also select rectangular subregions."
   ]
  },
  {
   "cell_type": "code",
   "execution_count": 46,
   "metadata": {},
   "outputs": [
    {
     "name": "stdout",
     "output_type": "stream",
     "text": [
      "first row [   1. 1565.   41.    5.]\n"
     ]
    }
   ],
   "source": [
    "print(\"first row\", wheat[0,:]) # : means everything"
   ]
  },
  {
   "cell_type": "code",
   "execution_count": 47,
   "metadata": {},
   "outputs": [
    {
     "name": "stdout",
     "output_type": "stream",
     "text": [
      "second column [1565. 1570. 1575. 1580. 1585. 1590. 1595. 1600. 1605. 1610. 1615. 1620.\n",
      " 1625. 1630. 1635. 1640. 1645. 1650. 1655. 1660. 1665. 1670. 1675. 1680.\n",
      " 1685. 1690. 1695. 1700. 1705. 1710. 1715. 1720. 1725. 1730. 1735. 1740.\n",
      " 1745. 1750. 1755. 1760. 1765. 1770. 1775. 1780. 1785. 1790. 1795. 1800.\n",
      " 1805. 1810.]\n"
     ]
    }
   ],
   "source": [
    "print(\"second column\", wheat[:,1]) # note: order is rows then columns"
   ]
  },
  {
   "cell_type": "markdown",
   "metadata": {},
   "source": [
    "This uses **slicing syntax** to select a specific part of the array.\n",
    "    \n",
    "#### Zero indexing\n",
    "Note that NumPy arrays are indexed starting from `0`!\n"
   ]
  },
  {
   "cell_type": "markdown",
   "metadata": {},
   "source": [
    "## Slicing\n",
    "The slice notation\n",
    "is very simple but powerful. You can give a range specifier for each dimension of the array inside square brackets (in this case we have a 2D array: rows x columns). \n",
    "\n",
    "A *range specifier* is of the form:\n",
    "\n",
    "    start : stop : step\n",
    "    \n",
    "Where `start` is the index to start from, `stop` is the end, and `step` is the jump to make between each step. **Any of these parts can be omitted**.\n",
    "\n",
    "* If `start` is missing, it defaults to 0\n",
    "* If `end` is missing, it defaults to the last element\n",
    "* If `step` is missing, it defaults to 1. You don't need to include the second colon if you are omitting step, though it's not an error to do so.\n",
    "\n",
    "If there is no colon at all (just a number) then the slice takes that element only (start and end are equal). Let's see that in action:\n",
    "\n"
   ]
  },
  {
   "cell_type": "code",
   "execution_count": 48,
   "metadata": {},
   "outputs": [
    {
     "name": "stdout",
     "output_type": "stream",
     "text": [
      "[[   6.   1590.     47.      5.25]\n",
      " [   7.   1595.     64.      5.54]\n",
      " [   8.   1600.     27.      5.61]\n",
      " [   9.   1605.     33.      5.69]\n",
      " [  10.   1610.     32.      5.78]]\n"
     ]
    }
   ],
   "source": [
    "print(wheat[5:10, :]) # select the 6th to 11th rows"
   ]
  },
  {
   "cell_type": "code",
   "execution_count": 49,
   "metadata": {},
   "outputs": [
    {
     "name": "stdout",
     "output_type": "stream",
     "text": [
      "[[1565.    41. ]\n",
      " [1570.    45. ]\n",
      " [1575.    42. ]\n",
      " [1580.    49. ]\n",
      " [1585.    41.5]\n",
      " [1590.    47. ]\n",
      " [1595.    64. ]\n",
      " [1600.    27. ]\n",
      " [1605.    33. ]\n",
      " [1610.    32. ]]\n"
     ]
    }
   ],
   "source": [
    "print(wheat[:10, 1:3]) # select first ten rows and second and third columns"
   ]
  },
  {
   "cell_type": "markdown",
   "metadata": {},
   "source": [
    "Slices wil give us back arrays. These have shapes, which we can look at"
   ]
  },
  {
   "cell_type": "code",
   "execution_count": 50,
   "metadata": {},
   "outputs": [
    {
     "name": "stdout",
     "output_type": "stream",
     "text": [
      "(10, 2)\n"
     ]
    }
   ],
   "source": [
    "print(wheat[:10, 1:3].shape) # a 10 by 2 array"
   ]
  },
  {
   "cell_type": "markdown",
   "metadata": {},
   "source": [
    "We can access specific elements if we don't have any ranges in the slice, only definite numbers:"
   ]
  },
  {
   "cell_type": "code",
   "execution_count": 51,
   "metadata": {},
   "outputs": [
    {
     "name": "stdout",
     "output_type": "stream",
     "text": [
      "5.0\n"
     ]
    }
   ],
   "source": [
    "print(wheat[0, -1]) # the first row, last column; a specific number"
   ]
  },
  {
   "cell_type": "markdown",
   "metadata": {},
   "source": [
    "## Arithmetic\n",
    "\n",
    "We can do arithmetic on arrays in a single command, without any explicit iteration. We could compute a conversion of bushels into modern units, litres:"
   ]
  },
  {
   "cell_type": "code",
   "execution_count": 52,
   "metadata": {},
   "outputs": [
    {
     "name": "stdout",
     "output_type": "stream",
     "text": [
      "[ 4.51  4.95  4.62  5.39  4.56  5.17  7.04  2.97  3.63  3.52  3.63  3.85\n",
      "  3.63  4.95  3.63  4.29  5.83  4.62  4.45  5.11  3.52  4.07  4.73  3.85\n",
      "  2.97  4.4   5.5   3.3   3.52  4.84  3.63  3.19  4.29  2.86  3.52  2.97\n",
      "  3.02  3.41  3.9   3.41  4.73  5.17  4.84  5.06  4.62  5.22  8.36  8.69\n",
      "  8.91 10.89]\n"
     ]
    }
   ],
   "source": [
    "litres_bushels = 36.3687\n",
    "price_quarter_bushels = wheat[:,2]  # slice\n",
    "price_litre = (price_quarter_bushels * 4.0) / litres_bushels\n",
    "# now print out the price in shillings per litre of wheat\n",
    "print(price_litre)"
   ]
  },
  {
   "cell_type": "markdown",
   "metadata": {},
   "source": [
    "Note that we are performing arithmetic on a whole array at once; that is we apply an operation *elementwise*. Lets' convert this further, to kilos, then plot the graph again:"
   ]
  },
  {
   "cell_type": "code",
   "execution_count": 53,
   "metadata": {},
   "outputs": [],
   "source": [
    "wheat_kg_litre = 0.79 # about 0.79 kg of wheat in every litre\n",
    "price_kg = price_litre * wheat_kg_litre"
   ]
  },
  {
   "cell_type": "code",
   "execution_count": 54,
   "metadata": {},
   "outputs": [
    {
     "data": {
      "text/plain": [
       "<matplotlib.legend.Legend at 0x261162ac4a8>"
      ]
     },
     "execution_count": 54,
     "metadata": {},
     "output_type": "execute_result"
    },
    {
     "data": {
      "image/png": "[encoded data removed]",
      "text/plain": [
       "<Figure size 576x288 with 1 Axes>"
      ]
     },
     "metadata": {
      "needs_background": "light"
     },
     "output_type": "display_data"
    }
   ],
   "source": [
    "# create a new figure\n",
    "fig = plt.figure(figsize=(8,4))\n",
    "ax = fig.add_subplot(1,1,1)\n",
    "# plot the wheat price against the year\n",
    "ax.plot(wheat[:,1], price_kg, label=\"Wheat price (per kg)\")\n",
    "# plot the wage of skilled mechanic  against the year\n",
    "ax.plot(wheat[:,1], wheat[:,3], label=\"Weekly wage (per week)\")\n",
    "# add some labels\n",
    "ax.set_xlabel(\"Year\")\n",
    "ax.set_ylabel(\"Shillings\")\n",
    "# add a legend\n",
    "ax.legend()"
   ]
  },
  {
   "cell_type": "markdown",
   "metadata": {},
   "source": [
    "## Elementwise arithmetic\n",
    "Say we wanted to compute the ratio of the wheat price and the weekly wage; how many kilos of wheat could a skilled mechanic afford? This again is an arithmetic operation, but instead of an operation between a scalar and an array, it's an operation between two arrays of the same size. \n",
    "\n",
    "This again is applied **elementwise**, each element from one array being paired with a corresponding one from another."
   ]
  },
  {
   "cell_type": "code",
   "execution_count": 55,
   "metadata": {
    "lines_to_next_cell": 0
   },
   "outputs": [
    {
     "data": {
      "text/plain": [
       "<matplotlib.legend.Legend at 0x26116359198>"
      ]
     },
     "execution_count": 55,
     "metadata": {},
     "output_type": "execute_result"
    },
    {
     "data": {
      "image/png": "[encoded data removed]",
      "text/plain": [
       "<Figure size 576x288 with 1 Axes>"
      ]
     },
     "metadata": {
      "needs_background": "light"
     },
     "output_type": "display_data"
    }
   ],
   "source": [
    "# note: an operation between two *arrays*\n",
    "kg_per_week = wheat[:,3] / price_kg\n",
    "\n",
    "# create a new figure\n",
    "fig = plt.figure(figsize=(8,4))\n",
    "ax = fig.add_subplot(1,1,1)\n",
    "\n",
    "# plot the wheat price against the year\n",
    "ax.plot(wheat[:,1], kg_per_week, label=\"kg per week\")\n",
    "# add some labels\n",
    "ax.set_xlabel(\"Year\")\n",
    "ax.set_ylabel(\"Kg of wheat afforded\")\n",
    "# add a legend\n",
    "ax.legend()"
   ]
  },
  {
   "cell_type": "markdown",
   "metadata": {},
   "source": [
    "\n"
   ]
  },
  {
   "cell_type": "markdown",
   "metadata": {},
   "source": [
    "## Aggregate operations\n",
    "Say we want to know how much wheat a skilled mechanic could afford, *on average each week*,  between 1650 and 1700. This is an aggregation operation. First we can select that region:"
   ]
  },
  {
   "cell_type": "code",
   "execution_count": 56,
   "metadata": {},
   "outputs": [
    {
     "name": "stdout",
     "output_type": "stream",
     "text": [
      "[[  18.   1650.     42.      6.5 ]\n",
      " [  19.   1655.     40.5     6.6 ]\n",
      " [  20.   1660.     46.5     6.75]\n",
      " [  21.   1665.     32.      6.8 ]\n",
      " [  22.   1670.     37.      6.9 ]\n",
      " [  23.   1675.     43.      7.  ]\n",
      " [  24.   1680.     35.      7.3 ]\n",
      " [  25.   1685.     27.      7.6 ]\n",
      " [  26.   1690.     40.      8.  ]\n",
      " [  27.   1695.     50.      8.5 ]]\n"
     ]
    }
   ],
   "source": [
    "# check we can find the right slice of the data\n",
    "print(wheat[17:27,:])"
   ]
  },
  {
   "cell_type": "code",
   "execution_count": 57,
   "metadata": {},
   "outputs": [],
   "source": [
    "# now slice the corresponding part of our kg pricing\n",
    "prices_1650_1700 = kg_per_week[17:27]"
   ]
  },
  {
   "cell_type": "markdown",
   "metadata": {},
   "source": [
    "We can **sum** this data with `np.sum()`, which is equivalent to putting a `+` in between each element, and then divide by the number of elements using the `shape`."
   ]
  },
  {
   "cell_type": "code",
   "execution_count": 58,
   "metadata": {},
   "outputs": [
    {
     "name": "stdout",
     "output_type": "stream",
     "text": [
      "2.1691354418865254\n"
     ]
    }
   ],
   "source": [
    "print(np.sum(prices_1650_1700) / prices_1650_1700.shape[0])"
   ]
  },
  {
   "cell_type": "markdown",
   "metadata": {},
   "source": [
    "NumPy has a built in `mean` function that does the same thing:"
   ]
  },
  {
   "cell_type": "code",
   "execution_count": 59,
   "metadata": {},
   "outputs": [
    {
     "name": "stdout",
     "output_type": "stream",
     "text": [
      "2.1691354418865254\n"
     ]
    }
   ],
   "source": [
    "print(np.mean(prices_1650_1700))"
   ]
  },
  {
   "cell_type": "markdown",
   "metadata": {},
   "source": [
    "### Multiple axes\n",
    "You can specify a list of axes across which to operate when using an aggregate function. This is mainly used with arrays with more than two dimensions."
   ]
  },
  {
   "cell_type": "code",
   "execution_count": 60,
   "metadata": {},
   "outputs": [
    {
     "name": "stdout",
     "output_type": "stream",
     "text": [
      "[  25.5  1687.5    42.14   11.58]\n"
     ]
    }
   ],
   "source": [
    "print(np.mean(wheat, axis=0)) # mean across rows, this is the mean for each variable, a useful summary"
   ]
  },
  {
   "cell_type": "code",
   "execution_count": 61,
   "metadata": {
    "lines_to_next_cell": 2
   },
   "outputs": [
    {
     "name": "stdout",
     "output_type": "stream",
     "text": [
      "[403.   405.51 406.27 409.53 409.16 412.06 417.88 410.15 413.17 414.44\n",
      " 416.24 418.25 419.28 423.81 422.32 425.34 430.36 429.12 430.27 433.31\n",
      " 431.2  433.98 437.   436.57 436.15 441.   445.12 441.75 444.   448.75\n",
      " 447.69 448.38 452.5  450.82 453.9  454.25 456.   458.5  461.3  461.88\n",
      " 466.65 469.38 470.38 472.75 473.75 477.25 486.38 488.88 491.12 497.25]\n"
     ]
    }
   ],
   "source": [
    "# it makes no sense to average together prices and years!\n",
    "print(np.mean(wheat, axis=1)) # mean across columns, this is meaningless here"
   ]
  },
  {
   "cell_type": "markdown",
   "metadata": {},
   "source": [
    "## Finding things: Boolean arrays\n",
    "This seems quite fragile, in that we had to specify `[17:27]` to select the years we were interested in. We can use Boolean tests to do this more cleanly. We can compare any array with a value or another array (these are just special cases of a more general rule) and get back an array of Booleans:"
   ]
  },
  {
   "cell_type": "code",
   "execution_count": 62,
   "metadata": {},
   "outputs": [
    {
     "name": "stdout",
     "output_type": "stream",
     "text": [
      "[False False False False False False False False False False False False\n",
      " False False False False False  True  True  True  True  True  True  True\n",
      "  True  True  True  True  True  True  True  True  True  True  True  True\n",
      "  True  True  True  True  True  True  True  True  True  True  True  True\n",
      "  True  True]\n"
     ]
    }
   ],
   "source": [
    "print(wheat[:,1]>=1650)"
   ]
  },
  {
   "cell_type": "code",
   "execution_count": 63,
   "metadata": {},
   "outputs": [
    {
     "name": "stdout",
     "output_type": "stream",
     "text": [
      "[ True  True  True  True  True  True  True  True  True  True  True  True\n",
      "  True  True  True  True  True  True  True  True  True  True  True  True\n",
      "  True  True  True False False False False False False False False False\n",
      " False False False False False False False False False False False False\n",
      " False False]\n"
     ]
    }
   ],
   "source": [
    "print(wheat[:,1]<1700)"
   ]
  },
  {
   "cell_type": "markdown",
   "metadata": {},
   "source": [
    "We can combine these together using logical operators. These are:\n",
    "    * `np.logical_not(x)` inverts a Boolean array\n",
    "    * `np.logical_and(x,y)` applies *and* to two arrays\n",
    "    * `np.logical_or(x,y)` applies *or* to two arrays"
   ]
  },
  {
   "cell_type": "code",
   "execution_count": 64,
   "metadata": {},
   "outputs": [
    {
     "name": "stdout",
     "output_type": "stream",
     "text": [
      "[False False False False False False False False False False False False\n",
      " False False False False False  True  True  True  True  True  True  True\n",
      "  True  True  True False False False False False False False False False\n",
      " False False False False False False False False False False False False\n",
      " False False]\n"
     ]
    }
   ],
   "source": [
    "print(np.logical_and(wheat[:,1]>=1650, wheat[:,1]<1700))"
   ]
  },
  {
   "cell_type": "markdown",
   "metadata": {},
   "source": [
    "How does that help us? One thing we can do is use `np.nonzero()` to convert every `True` to it's corresponding index."
   ]
  },
  {
   "cell_type": "code",
   "execution_count": 65,
   "metadata": {},
   "outputs": [
    {
     "name": "stdout",
     "output_type": "stream",
     "text": [
      "(array([17, 18, 19, 20, 21, 22, 23, 24, 25, 26], dtype=int64),)\n"
     ]
    }
   ],
   "source": [
    "print(np.nonzero(np.logical_and(wheat[:,1]>=1650, wheat[:,1]<1700)))"
   ]
  },
  {
   "cell_type": "markdown",
   "metadata": {},
   "source": [
    "And we would see that `[17:27]` is the right slice to use (remember slices are inclusive of the first specifier, and exclusive of the second).\n",
    "\n",
    "Even better, though, we can **directly index** an array with another array of Booleans; this will pull out only those values where the index array is `True`"
   ]
  },
  {
   "cell_type": "code",
   "execution_count": 66,
   "metadata": {},
   "outputs": [
    {
     "name": "stdout",
     "output_type": "stream",
     "text": [
      "[1.78 1.88 1.67 2.45 2.15 1.87 2.4  3.24 2.3  1.96]\n"
     ]
    }
   ],
   "source": [
    "selected_years = np.logical_and(wheat[:,1]>=1650, wheat[:,1]<1700) # a Boolean array\n",
    "print(kg_per_week[selected_years])  # select all elements of prices_kg where selected_years is True"
   ]
  },
  {
   "cell_type": "markdown",
   "metadata": {},
   "source": [
    "Note what we have done here. We have applied a test to one array (the years) and then used that to index a second array, because we know that they both correspond to the same ordering of elements."
   ]
  },
  {
   "cell_type": "markdown",
   "metadata": {},
   "source": [
    "Now we can easily find the mean price of wheat for any period we want:"
   ]
  },
  {
   "cell_type": "code",
   "execution_count": 67,
   "metadata": {},
   "outputs": [
    {
     "name": "stdout",
     "output_type": "stream",
     "text": [
      "2.5954876813543715\n"
     ]
    }
   ],
   "source": [
    "# adjust as you wish\n",
    "start = 1500\n",
    "stop = 1750\n",
    "print(np.mean(kg_per_week[np.logical_and(wheat[:,1]>=start, wheat[:,1]<stop)]))"
   ]
  },
  {
   "cell_type": "markdown",
   "metadata": {},
   "source": [
    "## min, max, arg*\n",
    "\n",
    "What is least affordable wheat price and what is the most affordable wheat price? This is again an aggregation operation that produces a summary result. `np.min` and `np.max` will tell us, taking the maximum or minimum across the whole array.\n",
    "\n"
   ]
  },
  {
   "cell_type": "code",
   "execution_count": 86,
   "metadata": {},
   "outputs": [
    {
     "name": "stdout",
     "output_type": "stream",
     "text": [
      "Least kg wheat affordable in the period:  0.9962549347310127\n",
      "Most kg wheat affordable in the period:  6.302592676311029\n"
     ]
    }
   ],
   "source": [
    "print(\"Least kg wheat affordable in the period: \", np.min(kg_per_week))\n",
    "print(\"Most kg wheat affordable in the period: \", np.max(kg_per_week))"
   ]
  },
  {
   "cell_type": "markdown",
   "metadata": {},
   "source": [
    "Perhaps more importantly: when did that occur? What years were most affordable or least affordable?\n",
    "\n",
    "There are two very useful operations that can help us: `np.argmax` which returns the **index** at which a maximum is found, and `np.argmin` which returns the index at which a minimum is found.\n",
    "    \n",
    "    "
   ]
  },
  {
   "cell_type": "code",
   "execution_count": 87,
   "metadata": {},
   "outputs": [
    {
     "name": "stdout",
     "output_type": "stream",
     "text": [
      "Index with most affordable wheat 44\n"
     ]
    }
   ],
   "source": [
    "print(\"Index with most affordable wheat\", np.argmax(kg_per_week)) "
   ]
  },
  {
   "cell_type": "markdown",
   "metadata": {},
   "source": [
    "The key idea is that we can use this to cross-reference to the years:"
   ]
  },
  {
   "cell_type": "code",
   "execution_count": 88,
   "metadata": {},
   "outputs": [
    {
     "name": "stdout",
     "output_type": "stream",
     "text": [
      "Most afforadble year 1785.0\n",
      "Least affordable year 1595.0\n"
     ]
    }
   ],
   "source": [
    "# note the syntax:\n",
    "# wheat[:,1] selects the \"years\" column\n",
    "# [np.argmax(kg_per_week)] selects the element of that column with the index\n",
    "# that maximises the array kg_per_week\n",
    "# This only makes sense because kg_per_week is the same size as the years column\n",
    "print(\"Most afforadble year\", wheat[:,1][np.argmax(kg_per_week)]) # most wheat afforded\n",
    "print(\"Least affordable year\", wheat[:,1][np.argmin(kg_per_week)]) # least wheat afforded\n"
   ]
  },
  {
   "cell_type": "markdown",
   "metadata": {},
   "source": [
    "Let's verify if that looks right, with a graph:"
   ]
  },
  {
   "cell_type": "code",
   "execution_count": 89,
   "metadata": {},
   "outputs": [
    {
     "data": {
      "text/plain": [
       "<matplotlib.legend.Legend at 0x2611615d4a8>"
      ]
     },
     "execution_count": 89,
     "metadata": {},
     "output_type": "execute_result"
    },
    {
     "data": {
      "image/png": "[encoded data removed]",
      "text/plain": [
       "<Figure size 576x288 with 1 Axes>"
      ]
     },
     "metadata": {
      "needs_background": "light"
     },
     "output_type": "display_data"
    }
   ],
   "source": [
    "# create a new figure\n",
    "fig = plt.figure(figsize=(8,4))\n",
    "ax = fig.add_subplot(1,1,1)\n",
    "\n",
    "# plot the wheat price against the year\n",
    "ax.plot(wheat[:,1], kg_per_week, label=\"kg per week\")\n",
    "ax.axvline(wheat[:,1][np.argmax(kg_per_week)], label=\"Maximum affordability\", color='C1')\n",
    "ax.axvline(wheat[:,1][np.argmin(kg_per_week)], label=\"Minimum affordability\", color='C2')\n",
    "# add some labels\n",
    "ax.set_xlabel(\"Year\")\n",
    "ax.set_ylabel(\"Kg of wheat afforded\")\n",
    "# add a legend\n",
    "ax.legend()"
   ]
  },
  {
   "cell_type": "markdown",
   "metadata": {},
   "source": [
    "What's the **second** least affordable year? We don't have an equivalent `np.argmin()` for second smallest. But there is a more general function that can answer any query of this type.\n",
    "\n",
    "`np.argsort(x)` returns the indices that would sort `x` (ascending order by default)"
   ]
  },
  {
   "cell_type": "code",
   "execution_count": 90,
   "metadata": {},
   "outputs": [
    {
     "name": "stdout",
     "output_type": "stream",
     "text": [
      "[ 6  3  5  1  2 16  0  4 13 19 17 22 18 15 26 11  8 10  9 12 21 14 25  7\n",
      " 23 20 29 24 27 49 28 32 30 47 46 48 41 40 34 31 38 42 43 37 33 35 36 39\n",
      " 45 44]\n"
     ]
    }
   ],
   "source": [
    "ordering = np.argsort(kg_per_week)\n",
    "print(ordering)"
   ]
  },
  {
   "cell_type": "code",
   "execution_count": 91,
   "metadata": {},
   "outputs": [
    {
     "name": "stdout",
     "output_type": "stream",
     "text": [
      "Least affordable 0.9962549347310127\n",
      "Second least affordable 1.202581658486179\n",
      "Year when second least affordable 1580.0\n"
     ]
    }
   ],
   "source": [
    "print(\"Least affordable\", kg_per_week[ordering[0]]) # smallest amount afforded\n",
    "print(\"Second least affordable\", kg_per_week[ordering[1]]) # *second* smallest amount afforded\n",
    "print(\"Year when second least affordable\", wheat[ordering[1], 1]) # year when when  second smallest amount afforded"
   ]
  },
  {
   "cell_type": "markdown",
   "metadata": {},
   "source": [
    "We can use an array of numbers as an index to another array, similarly to how we did for Booleans. If that array of numbers is the result of `argsort`, we will sort the array:"
   ]
  },
  {
   "cell_type": "code",
   "execution_count": 74,
   "metadata": {},
   "outputs": [
    {
     "name": "stdout",
     "output_type": "stream",
     "text": [
      "[1.   1.2  1.29 1.29 1.39 1.4  1.4  1.43 1.59 1.67 1.78 1.87 1.88 1.88\n",
      " 1.96 1.98 1.98 2.07 2.08 2.13 2.15 2.2  2.3  2.39 2.4  2.45 2.88 3.24\n",
      " 3.45 3.49 3.6  3.84 4.1  4.15 4.16 4.19 4.53 4.71 4.89 4.96 5.09 5.1\n",
      " 5.25 5.57 5.89 5.97 6.07 6.13 6.18 6.3 ]\n"
     ]
    }
   ],
   "source": [
    "print(kg_per_week[ordering])"
   ]
  },
  {
   "cell_type": "code",
   "execution_count": 75,
   "metadata": {},
   "outputs": [
    {
     "name": "stdout",
     "output_type": "stream",
     "text": [
      "[1.   1.2  1.29 1.29 1.39 1.4  1.4  1.43 1.59 1.67 1.78 1.87 1.88 1.88\n",
      " 1.96 1.98 1.98 2.07 2.08 2.13 2.15 2.2  2.3  2.39 2.4  2.45 2.88 3.24\n",
      " 3.45 3.49 3.6  3.84 4.1  4.15 4.16 4.19 4.53 4.71 4.89 4.96 5.09 5.1\n",
      " 5.25 5.57 5.89 5.97 6.07 6.13 6.18 6.3 ]\n"
     ]
    }
   ],
   "source": [
    "# verify this is the same as sorting it\n",
    "print(np.sort(kg_per_week[ordering]))"
   ]
  },
  {
   "cell_type": "markdown",
   "metadata": {},
   "source": [
    "Now we can print out the years, in order of wheat price, least affordable first:"
   ]
  },
  {
   "cell_type": "code",
   "execution_count": 76,
   "metadata": {},
   "outputs": [
    {
     "name": "stdout",
     "output_type": "stream",
     "text": [
      "[1595. 1580. 1590. 1570. 1575. 1645. 1565. 1585. 1630. 1660. 1650. 1675.\n",
      " 1655. 1640. 1695. 1620. 1605. 1615. 1610. 1625. 1670. 1635. 1690. 1600.\n",
      " 1680. 1665. 1710. 1685. 1700. 1810. 1705. 1725. 1715. 1800. 1795. 1805.\n",
      " 1770. 1765. 1735. 1720. 1755. 1775. 1780. 1750. 1730. 1740. 1745. 1760.\n",
      " 1790. 1785.]\n"
     ]
    }
   ],
   "source": [
    "print(wheat[ordering, 1])"
   ]
  },
  {
   "cell_type": "markdown",
   "metadata": {},
   "source": [
    "We could also try plotting the ordering against the year. If our hypothesis was that wheat was getting more affordable, we should see an increasing trend. The ordering gives us the \"rank\" of each year, in terms of how affordable food was, where 0=least affordable year, 1=second least affordable, etc."
   ]
  },
  {
   "cell_type": "code",
   "execution_count": 77,
   "metadata": {},
   "outputs": [
    {
     "data": {
      "text/plain": [
       "<matplotlib.legend.Legend at 0x26116433438>"
      ]
     },
     "execution_count": 77,
     "metadata": {},
     "output_type": "execute_result"
    },
    {
     "data": {
      "image/png": "[encoded data removed]",
      "text/plain": [
       "<Figure size 576x288 with 1 Axes>"
      ]
     },
     "metadata": {
      "needs_background": "light"
     },
     "output_type": "display_data"
    }
   ],
   "source": [
    "# create a new figure\n",
    "fig = plt.figure(figsize=(8,4))\n",
    "ax = fig.add_subplot(1,1,1)\n",
    "\n",
    "# plot the wheat price against the year\n",
    "ax.scatter(wheat[:,1], ordering, label=\"Rank\")\n",
    "# add some labels\n",
    "ax.set_xlabel(\"Year\")\n",
    "ax.set_ylabel(\"Affordability ranking\")\n",
    "# add a legend\n",
    "ax.legend()"
   ]
  },
  {
   "cell_type": "markdown",
   "metadata": {},
   "source": [
    "## Slice assignment\n",
    "\n",
    "What if we didn't *believe* the data from 1650-1700 was accurate? We might want to show a graph that had that portion omitted.\n",
    "\n",
    "We already know how to find the indices corresponding to the region 1650-1700. We need to be able to somehow set the values in this range so they are not plotted.\n",
    "\n",
    "There are three things that are useful to know:\n",
    "* **Slicing works in assignments too.** `x[0:5]=0` sets elements 0 to 5 of `x` to zero.\n",
    "* **There is a special value, \"not a number\" or NaN that can be used to indicate that a point should not be drawn in a graph.**\n",
    "* **We can copy arrays using `np.array(x)` or `x.copy()`**"
   ]
  },
  {
   "cell_type": "code",
   "execution_count": 78,
   "metadata": {},
   "outputs": [
    {
     "name": "stdout",
     "output_type": "stream",
     "text": [
      "[ 1  2  3 50 50]\n"
     ]
    }
   ],
   "source": [
    "# test slice assignment out\n",
    "x = np.array([1,2,3,4,5])\n",
    "# remember -2: means \"second last\" to \"the end\"\n",
    "x[-2:] = 50 # set last two elements to 50\n",
    "print(x)"
   ]
  },
  {
   "cell_type": "markdown",
   "metadata": {},
   "source": [
    "We must be careful that if we *modify* an array, we do not modify something we don't mean to. If we directly modify `kg_per_week`, then every use of `kg_per_week` will have changed. If we want to experiment with different options, we should copy `kg_per_week` and modify the copy.\n",
    "    "
   ]
  },
  {
   "cell_type": "markdown",
   "metadata": {},
   "source": [
    "We can set a whole portion of an array a simple operation:"
   ]
  },
  {
   "cell_type": "code",
   "execution_count": 79,
   "metadata": {},
   "outputs": [],
   "source": [
    "\n",
    "# specify the elements we want to modify\n",
    "selected_years = np.logical_and(wheat[:,1]>=1600, wheat[:,1]<1700)\n",
    "# copy the array, to not modify kg_per_week\n",
    "kg_per_week_copy = kg_per_week.copy()\n",
    "# now, we set all of the selected years to the special\n",
    "# value np.na\n",
    "kg_per_week_copy[selected_years] = np.nan"
   ]
  },
  {
   "cell_type": "code",
   "execution_count": 80,
   "metadata": {},
   "outputs": [
    {
     "data": {
      "text/plain": [
       "<matplotlib.legend.Legend at 0x26116494f60>"
      ]
     },
     "execution_count": 80,
     "metadata": {},
     "output_type": "execute_result"
    },
    {
     "data": {
      "image/png": "[encoded data removed]",
      "text/plain": [
       "<Figure size 576x288 with 1 Axes>"
      ]
     },
     "metadata": {
      "needs_background": "light"
     },
     "output_type": "display_data"
    }
   ],
   "source": [
    "# create a new figure\n",
    "fig = plt.figure(figsize=(8,4))\n",
    "ax = fig.add_subplot(1,1,1)\n",
    "\n",
    "\n",
    "# plot the original data in a dashed line\n",
    "ax.plot(wheat[:,1], kg_per_week, ls=':')\n",
    "\n",
    "# plot the wheat price against the year\n",
    "# this will have a gap where we removed the data\n",
    "# by setting it to np.nan\n",
    "ax.plot(wheat[:,1], kg_per_week_copy, label=\"kg per week\")\n",
    "\n",
    "# add some labels\n",
    "ax.set_xlabel(\"Year\")\n",
    "ax.set_ylabel(\"Kg of wheat afforded\")\n",
    "# add a legend\n",
    "ax.legend()"
   ]
  },
  {
   "cell_type": "markdown",
   "metadata": {},
   "source": [
    "## Accumulation\n",
    "\n",
    "If a worker bought as much wheat as they could afford, each year, at that year's price, (and never ate any!) how much wheat would they accumulate at each point in their lifetime? Could we make a chart of the wheat hoard accumulated by such a worker?\n",
    "\n",
    "Assume a worker earns a wage for 50 years. Starting in 1700, say, we could select the relevant portion of wheat afforded:\n"
   ]
  },
  {
   "cell_type": "code",
   "execution_count": 81,
   "metadata": {},
   "outputs": [
    {
     "data": {
      "text/plain": [
       "array([3.45, 3.6 , 2.88, 4.1 , 4.96, 3.84, 5.89, 4.89, 5.97, 6.07])"
      ]
     },
     "execution_count": 81,
     "metadata": {},
     "output_type": "execute_result"
    }
   ],
   "source": [
    "worker_life = np.logical_and(wheat[:,1]>=1700, wheat[:,1]<1750)\n",
    "kg_per_week[worker_life]"
   ]
  },
  {
   "cell_type": "markdown",
   "metadata": {},
   "source": [
    "We could multiply these weekly figures by 52 to get the wheat per year:"
   ]
  },
  {
   "cell_type": "code",
   "execution_count": 82,
   "metadata": {},
   "outputs": [],
   "source": [
    "kg_per_year = kg_per_week[worker_life] * 52"
   ]
  },
  {
   "cell_type": "markdown",
   "metadata": {},
   "source": [
    "`sum` would give us the total amount of wheat for the whole lifetime. If, however, we wanted to plot a graph of how big the wheat hoard was each year, we would need something slightly different: the **cumulative sum**. In NumPy `np.cumsum` works like `sum` but **returns all the intermediate sums.**"
   ]
  },
  {
   "cell_type": "code",
   "execution_count": 83,
   "metadata": {},
   "outputs": [
    {
     "name": "stdout",
     "output_type": "stream",
     "text": [
      "2373.0970675166104\n"
     ]
    },
    {
     "data": {
      "text/plain": [
       "array([ 179.54,  366.56,  516.18,  729.27,  987.24, 1186.73, 1492.87,\n",
       "       1747.22, 2057.54, 2373.1 ])"
      ]
     },
     "execution_count": 83,
     "metadata": {},
     "output_type": "execute_result"
    }
   ],
   "source": [
    "print(np.sum(kg_per_year)) # the sum\n",
    "np.cumsum(kg_per_year)     # the cumulative sum"
   ]
  },
  {
   "cell_type": "code",
   "execution_count": 84,
   "metadata": {},
   "outputs": [
    {
     "data": {
      "text/plain": [
       "<matplotlib.legend.Legend at 0x261164fc898>"
      ]
     },
     "execution_count": 84,
     "metadata": {},
     "output_type": "execute_result"
    },
    {
     "data": {
      "image/png": "[encoded data removed]",
      "text/plain": [
       "<Figure size 576x288 with 1 Axes>"
      ]
     },
     "metadata": {
      "needs_background": "light"
     },
     "output_type": "display_data"
    }
   ],
   "source": [
    "# create a new figure\n",
    "fig = plt.figure(figsize=(8,4))\n",
    "ax = fig.add_subplot(1,1,1)\n",
    "\n",
    "# plot the wheat price against the year\n",
    "ax.plot(wheat[worker_life,1], np.cumsum(kg_per_year), label=\"Wheat hoard\")\n",
    "# add some labels\n",
    "ax.set_xlabel(\"Year\")\n",
    "ax.set_ylabel(\"Kg in the wheat hoard\")\n",
    "# add a legend\n",
    "ax.legend()"
   ]
  },
  {
   "cell_type": "markdown",
   "metadata": {},
   "source": [
    "This is an example of an **accumulation operation**, which applies an operation to a sequence of values and maintains the intermediate values.\n",
    "\n",
    "### The opposite of cumulative sum: differencing\n",
    "A corresponding operation is `np.diff()`, which computes the running difference. We can use it to plot the *change* in wheat affordability (the difference in wheat afforded from one year to the next):"
   ]
  },
  {
   "cell_type": "code",
   "execution_count": 85,
   "metadata": {},
   "outputs": [
    {
     "data": {
      "text/plain": [
       "<matplotlib.legend.Legend at 0x2611655d8d0>"
      ]
     },
     "execution_count": 85,
     "metadata": {},
     "output_type": "execute_result"
    },
    {
     "data": {
      "image/png": "[encoded data removed]",
      "text/plain": [
       "<Figure size 576x288 with 1 Axes>"
      ]
     },
     "metadata": {
      "needs_background": "light"
     },
     "output_type": "display_data"
    }
   ],
   "source": [
    "# create a new figure\n",
    "fig = plt.figure(figsize=(8,4))\n",
    "ax = fig.add_subplot(1,1,1)\n",
    "\n",
    "# plot the wheat price against the year (step will make a clearer plot here)\n",
    "# note that diff will give us one *less* value than we input, so we drop\n",
    "# the first row of the wheat table using 1: to compensate\n",
    "ax.step(wheat[1:,1], np.diff(kg_per_week), label=\"Wheat differential\")\n",
    "\n",
    "ax.set_xlabel(\"Year\")\n",
    "ax.set_ylabel(\"Change in kg\")\n",
    "# add a legend\n",
    "ax.legend()"
   ]
  },
  {
   "cell_type": "markdown",
   "metadata": {},
   "source": [
    "We can see, for example, that it looks like there was a massive drop in the wheat afforded just before 1800, with the average skilled worker getting almost 2 kg less wheat a week than in the previous year.\n",
    "\n",
    "\n",
    "\n"
   ]
  },
  {
   "cell_type": "code",
   "execution_count": null,
   "metadata": {},
   "outputs": [],
   "source": []
  },
  {
   "cell_type": "code",
   "execution_count": null,
   "metadata": {},
   "outputs": [],
   "source": []
  }
 ],
 "metadata": {
  "kernelspec": {
   "display_name": "Python 3",
   "language": "python",
   "name": "python3"
  },
  "language_info": {
   "codemirror_mode": {
    "name": "ipython",
    "version": 3
   },
   "file_extension": ".py",
   "mimetype": "text/x-python",
   "name": "python",
   "nbconvert_exporter": "python",
   "pygments_lexer": "ipython3",
   "version": "3.7.3"
  },
  "varInspector": {
   "cols": {
    "lenName": 16,
    "lenType": 16,
    "lenVar": 40
   },
   "kernels_config": {
    "python": {
     "delete_cmd_postfix": "",
     "delete_cmd_prefix": "del ",
     "library": "var_list.py",
     "varRefreshCmd": "print(var_dic_list())"
    },
    "r": {
     "delete_cmd_postfix": ") ",
     "delete_cmd_prefix": "rm(",
     "library": "var_list.r",
     "varRefreshCmd": "cat(var_dic_list()) "
    }
   },
   "types_to_exclude": [
    "module",
    "function",
    "builtin_function_or_method",
    "instance",
    "_Feature"
   ],
   "window_display": false
  }
 },
 "nbformat": 4,
 "nbformat_minor": 2
}
